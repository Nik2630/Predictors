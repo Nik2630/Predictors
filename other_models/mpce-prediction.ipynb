{
 "cells": [
  {
   "cell_type": "code",
   "execution_count": 16,
   "metadata": {
    "_cell_guid": "b1076dfc-b9ad-4769-8c92-a6c4dae69d19",
    "_uuid": "8f2839f25d086af736a60e9eeb907d3b93b6e0e5",
    "execution": {
     "iopub.execute_input": "2025-03-21T09:04:57.904653Z",
     "iopub.status.busy": "2025-03-21T09:04:57.904172Z",
     "iopub.status.idle": "2025-03-21T09:04:57.917844Z",
     "shell.execute_reply": "2025-03-21T09:04:57.916469Z",
     "shell.execute_reply.started": "2025-03-21T09:04:57.904620Z"
    },
    "trusted": true
   },
   "outputs": [],
   "source": [
    "# This Python 3 environment comes with many helpful analytics libraries installed\n",
    "# It is defined by the kaggle/python Docker image: https://github.com/kaggle/docker-python\n",
    "# For example, here's several helpful packages to load\n",
    "\n",
    "import numpy as np # linear algebra\n",
    "import pandas as pd # data processing, CSV file I/O (e.g. pd.read_csv)\n",
    "\n",
    "# Input data files are available in the read-only \"../input/\" directory\n",
    "# For example, running this (by clicking run or pressing Shift+Enter) will list all files under the input directory\n",
    "\n",
    "import os\n",
    "# for dirname, _, filenames in os.walk('/kaggle/input'):\n",
    "#     for filename in filenames:\n",
    "#         print(os.path.join(dirname, filename))\n",
    "\n",
    "# You can write up to 20GB to the current directory (/kaggle/working/) that gets preserved as output when you create a version using \"Save & Run All\" \n",
    "# You can also write temporary files to /kaggle/temp/, but they won't be saved outside of the current session"
   ]
  },
  {
   "cell_type": "code",
   "execution_count": null,
   "metadata": {
    "execution": {
     "iopub.execute_input": "2025-03-21T09:05:01.316816Z",
     "iopub.status.busy": "2025-03-21T09:05:01.316390Z",
     "iopub.status.idle": "2025-03-21T09:05:05.492125Z",
     "shell.execute_reply": "2025-03-21T09:05:05.491208Z",
     "shell.execute_reply.started": "2025-03-21T09:05:01.316787Z"
    },
    "trusted": true
   },
   "outputs": [
    {
     "name": "stdout",
     "output_type": "stream",
     "text": [
      "HH_ID                                                    0\n",
      "Sector                                                   0\n",
      "State                                                    0\n",
      "NSS-Region                                               0\n",
      "District                                                 0\n",
      "Household Type                                           0\n",
      "Religion of the head of the household                    0\n",
      "Social Group of the head of the household                0\n",
      "HH Size (For FDQ)                                        0\n",
      "NCO_3D                                               19947\n",
      "NIC_5D                                               19947\n",
      "Is_online_Clothing_Purchased_Last365                167602\n",
      "Is_online_Footwear_Purchased_Last365                181550\n",
      "Is_online_Furniture_fixturesPurchased_Last365       208560\n",
      "Is_online_Mobile_Handset_Purchased_Last365          205356\n",
      "Is_online_Personal_Goods_Purchased_Last365          202783\n",
      "Is_online_Recreation_Goods_Purchased_Last365        207638\n",
      "Is_online_Household_Appliances_Purchased_Last365    206608\n",
      "Is_online_Crockery_Utensils_Purchased_Last365       205879\n",
      "Is_online_Sports_Goods_Purchased_Last365            206820\n",
      "Is_online_Medical_Equipment_Purchased_Last365       208091\n",
      "Is_online_Bedding_Purchased_Last365                 204260\n",
      "Is_HH_Have_Television                                64631\n",
      "Is_HH_Have_Radio                                    202801\n",
      "Is_HH_Have_Laptop_PC                                192223\n",
      "Is_HH_Have_Mobile_handset                             6881\n",
      "Is_HH_Have_Bicycle                                  124625\n",
      "Is_HH_Have_Motorcycle_scooter                        94988\n",
      "Is_HH_Have_Motorcar_jeep_van                        191938\n",
      "Is_HH_Have_Trucks                                   209063\n",
      "Is_HH_Have_Animal_cart                              207783\n",
      "Is_HH_Have_Refrigerator                             118296\n",
      "Is_HH_Have_Washing_machine                          163375\n",
      "Is_HH_Have_Airconditioner_aircooler                 157674\n",
      "TotalExpense                                             0\n",
      "dtype: int64\n"
     ]
    }
   ],
   "source": [
    "df_hh_train=pd.read_csv('HH_Train_Data.csv')\n",
    "df_pp_train=pd.read_csv('Person_Train_Data.csv')\n",
    "df_hh_test=pd.read_csv('HH_Test_Data.csv')\n",
    "df_pp_test=pd.read_csv('Person_Test_Data.csv')\n",
    "\n",
    "# Count missing values per column\n",
    "missing_values = df_hh_train.isnull().sum()\n",
    "print(missing_values)\n",
    "\n",
    "\n",
    "# max of NCO_3D and min of NIC_5D columns\n",
    "print(df_hh_train['NCO_3D'].max())\n",
    "print(df_hh_train['NIC_5D'].min())\n",
    "\n",
    "\n"
   ]
  },
  {
   "cell_type": "code",
   "execution_count": null,
   "metadata": {
    "execution": {
     "iopub.execute_input": "2025-03-21T09:05:24.330698Z",
     "iopub.status.busy": "2025-03-21T09:05:24.330231Z",
     "iopub.status.idle": "2025-03-21T09:05:24.694770Z",
     "shell.execute_reply": "2025-03-21T09:05:24.693496Z",
     "shell.execute_reply.started": "2025-03-21T09:05:24.330663Z"
    },
    "trusted": true
   },
   "outputs": [
    {
     "name": "stderr",
     "output_type": "stream",
     "text": [
      "C:\\Users\\Asus\\AppData\\Local\\Temp\\ipykernel_16636\\757760235.py:2: FutureWarning: A value is trying to be set on a copy of a DataFrame or Series through chained assignment using an inplace method.\n",
      "The behavior will change in pandas 3.0. This inplace method will never work because the intermediate object on which we are setting values always behaves as a copy.\n",
      "\n",
      "For example, when doing 'df[col].method(value, inplace=True)', try using 'df.method({col: value}, inplace=True)' or df[col] = df[col].method(value) instead, to perform the operation inplace on the original object.\n",
      "\n",
      "\n",
      "  df_hh_train['NCO_3D'].fillna(963, inplace=True)\n",
      "C:\\Users\\Asus\\AppData\\Local\\Temp\\ipykernel_16636\\757760235.py:3: FutureWarning: A value is trying to be set on a copy of a DataFrame or Series through chained assignment using an inplace method.\n",
      "The behavior will change in pandas 3.0. This inplace method will never work because the intermediate object on which we are setting values always behaves as a copy.\n",
      "\n",
      "For example, when doing 'df[col].method(value, inplace=True)', try using 'df.method({col: value}, inplace=True)' or df[col] = df[col].method(value) instead, to perform the operation inplace on the original object.\n",
      "\n",
      "\n",
      "  df_hh_test['NCO_3D'].fillna(963, inplace=True)\n",
      "C:\\Users\\Asus\\AppData\\Local\\Temp\\ipykernel_16636\\757760235.py:4: FutureWarning: A value is trying to be set on a copy of a DataFrame or Series through chained assignment using an inplace method.\n",
      "The behavior will change in pandas 3.0. This inplace method will never work because the intermediate object on which we are setting values always behaves as a copy.\n",
      "\n",
      "For example, when doing 'df[col].method(value, inplace=True)', try using 'df.method({col: value}, inplace=True)' or df[col] = df[col].method(value) instead, to perform the operation inplace on the original object.\n",
      "\n",
      "\n",
      "  df_hh_train['NIC_5D'].fillna(1110, inplace=True)\n",
      "C:\\Users\\Asus\\AppData\\Local\\Temp\\ipykernel_16636\\757760235.py:5: FutureWarning: A value is trying to be set on a copy of a DataFrame or Series through chained assignment using an inplace method.\n",
      "The behavior will change in pandas 3.0. This inplace method will never work because the intermediate object on which we are setting values always behaves as a copy.\n",
      "\n",
      "For example, when doing 'df[col].method(value, inplace=True)', try using 'df.method({col: value}, inplace=True)' or df[col] = df[col].method(value) instead, to perform the operation inplace on the original object.\n",
      "\n",
      "\n",
      "  df_hh_test['NIC_5D'].fillna(1110, inplace=True)\n"
     ]
    }
   ],
   "source": [
    "# fill missing values of NCO_3D with 962.0 and NIC_5D with 1110.0\n",
    "df_hh_train['NCO_3D'].fillna(963, inplace=True)\n",
    "df_hh_test['NCO_3D'].fillna(963, inplace=True)\n",
    "df_hh_train['NIC_5D'].fillna(1110, inplace=True)\n",
    "df_hh_test['NIC_5D'].fillna(1110, inplace=True)\n",
    "\n",
    "df_hh_train.fillna(0, inplace=True)\n",
    "df_pp_train.fillna(0, inplace=True)\n",
    "df_hh_test.fillna(0, inplace=True)\n",
    "df_pp_test.fillna(0, inplace=True)"
   ]
  },
  {
   "cell_type": "code",
   "execution_count": 20,
   "metadata": {
    "execution": {
     "iopub.execute_input": "2025-03-21T09:05:44.869786Z",
     "iopub.status.busy": "2025-03-21T09:05:44.869278Z",
     "iopub.status.idle": "2025-03-21T09:05:45.864179Z",
     "shell.execute_reply": "2025-03-21T09:05:45.862890Z",
     "shell.execute_reply.started": "2025-03-21T09:05:44.869753Z"
    },
    "trusted": true
   },
   "outputs": [],
   "source": [
    "import matplotlib.pyplot as plt\n",
    "import seaborn as sns"
   ]
  },
  {
   "cell_type": "code",
   "execution_count": 21,
   "metadata": {
    "execution": {
     "iopub.execute_input": "2025-03-21T09:05:48.730118Z",
     "iopub.status.busy": "2025-03-21T09:05:48.729491Z",
     "iopub.status.idle": "2025-03-21T09:05:49.062238Z",
     "shell.execute_reply": "2025-03-21T09:05:49.061114Z",
     "shell.execute_reply.started": "2025-03-21T09:05:48.730082Z"
    },
    "trusted": true
   },
   "outputs": [
    {
     "data": {
      "image/png": "[encoded data removed]",
      "text/plain": [
       "<Figure size 1000x600 with 1 Axes>"
      ]
     },
     "metadata": {},
     "output_type": "display_data"
    }
   ],
   "source": [
    "# Calculate the mean spending for each relation category\n",
    "mean_spending = df_hh_train.groupby('Religion of the head of the household')['TotalExpense'].mean().reset_index()\n",
    "\n",
    "plt.figure(figsize=(10, 6))\n",
    "sns.barplot(x='Religion of the head of the household', y='TotalExpense', data=mean_spending)\n",
    "plt.xlabel('Religion of the head of the household')\n",
    "plt.ylabel('Average Total Spending')\n",
    "plt.title('Average Spending by Relation to Head')\n",
    "plt.show()\n"
   ]
  },
  {
   "cell_type": "code",
   "execution_count": 22,
   "metadata": {
    "execution": {
     "iopub.execute_input": "2025-03-21T09:05:54.090417Z",
     "iopub.status.busy": "2025-03-21T09:05:54.089915Z",
     "iopub.status.idle": "2025-03-21T09:05:54.481135Z",
     "shell.execute_reply": "2025-03-21T09:05:54.479799Z",
     "shell.execute_reply.started": "2025-03-21T09:05:54.090380Z"
    },
    "trusted": true
   },
   "outputs": [
    {
     "data": {
      "image/png": "[encoded data removed]",
      "text/plain": [
       "<Figure size 1000x600 with 1 Axes>"
      ]
     },
     "metadata": {},
     "output_type": "display_data"
    }
   ],
   "source": [
    "# Calculate the mean spending for each relation category\n",
    "mean_spending = df_hh_train.groupby('HH Size (For FDQ)')['TotalExpense'].mean().reset_index()\n",
    "\n",
    "plt.figure(figsize=(10, 6))\n",
    "sns.barplot(x='HH Size (For FDQ)', y='TotalExpense', data=mean_spending)\n",
    "plt.xlabel('HH Size (For FDQ) ')\n",
    "plt.ylabel('Average Total Spending')\n",
    "plt.title('Average Spending by Relation to Head')\n",
    "plt.show()\n"
   ]
  },
  {
   "cell_type": "code",
   "execution_count": 23,
   "metadata": {
    "execution": {
     "iopub.execute_input": "2025-03-21T09:06:00.394183Z",
     "iopub.status.busy": "2025-03-21T09:06:00.393677Z",
     "iopub.status.idle": "2025-03-21T09:16:20.533660Z",
     "shell.execute_reply": "2025-03-21T09:16:20.532390Z",
     "shell.execute_reply.started": "2025-03-21T09:06:00.394138Z"
    },
    "trusted": true
   },
   "outputs": [],
   "source": [
    "def compute_features(group):\n",
    "    # Count of adults: Age 18-64 (inclusive)\n",
    "    count_adults = group[(group['Age(in years)'] >= 18) & (group['Age(in years)'] <= 64)].shape[0]\n",
    "    adults_mean_age = group[(group['Age(in years)'] >= 18) & (group['Age(in years)'] <= 64)]['Age(in years)'].mean() \n",
    "\n",
    "    \n",
    "    # Count of children: Age below 18\n",
    "    count_children = group[group['Age(in years)'] < 18].shape[0]\n",
    "    children_mean_age = group[group['Age(in years)'] < 18]['Age(in years)'].mean()\n",
    "    \n",
    "    # Count of elders: Age 65 and above\n",
    "    count_elders = group[group['Age(in years)'] >= 65].shape[0]\n",
    "    elders_mean_age = group[group['Age(in years)'] >= 65]['Age(in years)'].mean()\n",
    "    \n",
    "    # Gender ratio: Count females divided by count males\n",
    "    # Adjust the gender codes if needed. Here we assume: 1=Male, 2=Female.\n",
    "    count_males = group[group['Gender'] == 1].shape[0]\n",
    "    count_females = group[group['Gender'] == 2].shape[0]\n",
    "    gender_ratio = count_females / (count_males + 1) # Add 1 to avoid division by zero\n",
    "    \n",
    "    # Mean age\n",
    "    mean_age = group['Age(in years)'].mean()\n",
    "    \n",
    "    # Dependency ratio: (Count of children + Count of elders) / Count of adults\n",
    "    dependency_ratio = (count_children + count_elders) / (count_adults + 1) # Add 1 to avoid division by zero\n",
    "    \n",
    "    # Count of married: assuming Marital Status code 2 means currently married\n",
    "    count_married = group[group['Marital Status (code)'] == 2].shape[0]\n",
    "    \n",
    "    # Maximum educational level attained (assuming higher code means higher education)\n",
    "    max_education = group['Highest educational level attained (code)'].max()\n",
    "    \n",
    "    # Count of internet users: assuming '1' indicates \"Yes\"\n",
    "    count_internet_users = group[group['Whether used internet from any location during last 30 days'] == 1].shape[0]\n",
    "    \n",
    "    # Total meals from various sources. Check if column exists before summing.\n",
    "    total_meals_school = group['No. of meals taken during last 30 days from school, balwadi etc.'].sum() if 'No. of meals taken during last 30 days from school, balwadi etc.' in group.columns else np.nan\n",
    "    total_meals_employer = group['No. of meals taken during last 30 days from employer as perquisites or part of wage'].sum() if 'No. of meals taken during last 30 days from employer as perquisites or part of wage' in group.columns else np.nan\n",
    "    total_meals_payment = group['No. of meals taken during last 30 days on payment'].sum() if 'No. of meals taken during last 30 days on payment' in group.columns else np.nan\n",
    "    total_meals_home = group['No. of meals taken during last 30 days at home'].sum() if 'No. of meals taken during last 30 days at home' in group.columns else np.nan\n",
    "    total_meals_others = group['No. of meals taken during last 30 days  others'].sum() if 'No. of meals taken during last 30 days  others' in group.columns else np.nan\n",
    "    \n",
    "    return pd.Series({\n",
    "        'count_adults': count_adults,\n",
    "        'adults_mean_age': adults_mean_age,\n",
    "        'count_children': count_children,\n",
    "        'children_mean_age': children_mean_age,\n",
    "        'count_elders': count_elders,\n",
    "        'elders_mean_age': elders_mean_age,\n",
    "        'count_males': count_males,\n",
    "        'count_females': count_females,\n",
    "        'gender_ratio': gender_ratio,\n",
    "        'mean_age': mean_age,\n",
    "        'dependency_ratio': dependency_ratio,\n",
    "        'count_married': count_married,\n",
    "        'max_education': max_education,\n",
    "        'count_internet_users': count_internet_users,\n",
    "        'total_meals_school': total_meals_school,\n",
    "        'total_meals_employer': total_meals_employer,\n",
    "        'total_meals_payment': total_meals_payment,\n",
    "        'total_meals_home': total_meals_home,\n",
    "        'total_meals_others': total_meals_others,\n",
    "    })\n",
    "\n",
    "\n"
   ]
  },
  {
   "cell_type": "code",
   "execution_count": 28,
   "metadata": {},
   "outputs": [
    {
     "name": "stdout",
     "output_type": "stream",
     "text": [
      "Original features: 54\n",
      "After feature engineering: 74\n"
     ]
    }
   ],
   "source": [
    "def create_advanced_features(df):\n",
    "    \"\"\"Create advanced features that might improve model performance\"\"\"\n",
    "    df_new = df.copy()\n",
    "    \n",
    "    # 1. Household composition ratios\n",
    "    df_new['adult_ratio'] = df_new['count_adults'] / df_new['HH Size (For FDQ)'].replace(0, 1)\n",
    "    df_new['child_ratio'] = df_new['count_children'] / df_new['HH Size (For FDQ)'].replace(0, 1)\n",
    "    df_new['elder_ratio'] = df_new['count_elders'] / df_new['HH Size (For FDQ)'].replace(0, 1)\n",
    "    df_new['male_ratio'] = df_new['count_males'] / df_new['HH Size (For FDQ)'].replace(0, 1)\n",
    "    df_new['female_ratio'] = df_new['count_females'] / df_new['HH Size (For FDQ)'].replace(0, 1)\n",
    "    df_new['married_ratio'] = df_new['count_married'] / df_new['HH Size (For FDQ)'].replace(0, 1)\n",
    "    \n",
    "    # 2. Asset indexes\n",
    "    # Create a luxury index\n",
    "    luxury_cols = ['Is_HH_Have_Television', 'Is_HH_Have_Laptop_PC', 'Is_HH_Have_Motorcar_jeep_van', \n",
    "                  'Is_HH_Have_Refrigerator', 'Is_HH_Have_Washing_machine', 'Is_HH_Have_Airconditioner_aircooler']\n",
    "    df_new['luxury_index'] = df_new[luxury_cols].sum(axis=1)\n",
    "    \n",
    "    # Create a mobility index\n",
    "    mobility_cols = ['Is_HH_Have_Bicycle', 'Is_HH_Have_Motorcycle_scooter', 'Is_HH_Have_Motorcar_jeep_van', \n",
    "                    'Is_HH_Have_Trucks', 'Is_HH_Have_Animal_cart']\n",
    "    df_new['mobility_index'] = df_new[mobility_cols].sum(axis=1)\n",
    "    \n",
    "    # 3. Online purchase behavior index\n",
    "    online_cols = [col for col in df_new.columns if 'online' in col.lower()]\n",
    "    df_new['online_purchase_index'] = df_new[online_cols].sum(axis=1)\n",
    "    \n",
    "    # 4. Meal source diversity index\n",
    "    meal_cols = [col for col in df_new.columns if 'meals' in col.lower()]\n",
    "    df_new['meal_diversity'] = (df_new[meal_cols] > 0).sum(axis=1)  # Count different meal sources\n",
    "    \n",
    "    # 5. Interaction terms\n",
    "    df_new['wealth_education'] = df_new['luxury_index'] * df_new['max_education']\n",
    "    df_new['tech_education'] = df_new['Is_HH_Have_Laptop_PC'] * df_new['max_education']\n",
    "    \n",
    "    # 6. Polynomial features for important numeric columns\n",
    "    for col in ['mean_age', 'max_education', 'count_internet_users']:\n",
    "        df_new[f'{col}_squared'] = df_new[col] ** 2\n",
    "    \n",
    "    # 7. Geographic clustering (if we have lat/long, otherwise use region/state)\n",
    "    if 'NSS-Region' in df_new.columns and 'State' in df_new.columns:\n",
    "        df_new['geo_cluster'] = df_new['State'] * 100 + df_new['NSS-Region']\n",
    "    \n",
    "    # 8. Add categorical interactions as new categories\n",
    "    if 'Religion of the head of the household' in df_new.columns and 'Social Group of the head of the household' in df_new.columns:\n",
    "        df_new['religion_social_group'] = df_new['Religion of the head of the household'] * 10 + df_new['Social Group of the head of the household']\n",
    "    \n",
    "    # 9. Log transforms of counts (useful for skewed distributions)\n",
    "    for col in ['count_adults', 'count_children', 'HH Size (For FDQ)']:\n",
    "        df_new[f'log_{col}'] = np.log1p(df_new[col])\n",
    "    \n",
    "    \n",
    "    return df_new\n",
    "\n",
    "df_train = pd.read_csv('aggregated_data_train.csv')\n",
    "df_test = pd.read_csv('aggregated_data_test.csv')\n",
    "\n",
    "# Apply the feature engineering to the cleaned dataframe\n",
    "df_enriched_train = create_advanced_features(df_train)\n",
    "print(f\"Original features: {df_train.shape[1]}\")\n",
    "print(f\"After feature engineering: {df_enriched_train.shape[1]}\")\n",
    "\n",
    "df_enriched_test = create_advanced_features(df_test)\n",
    "\n",
    "\n",
    "# Save the enriched data to CSV files\n",
    "df_enriched_train.to_csv('enriched_data_train.csv', index=False)\n",
    "df_enriched_test.to_csv('enriched_data_test.csv', index=False)\n",
    "print(\"Saved enriched data to CSV files\")"
   ]
  },
  {
   "cell_type": "code",
   "execution_count": 29,
   "metadata": {},
   "outputs": [
    {
     "data": {
      "text/plain": [
       "np.int64(0)"
      ]
     },
     "execution_count": 29,
     "metadata": {},
     "output_type": "execute_result"
    }
   ],
   "source": [
    "# missing values\n",
    "df_enriched_train.isnull().sum().sum()"
   ]
  },
  {
   "cell_type": "code",
   "execution_count": 24,
   "metadata": {},
   "outputs": [
    {
     "ename": "KeyboardInterrupt",
     "evalue": "",
     "output_type": "error",
     "traceback": [
      "\u001b[31m---------------------------------------------------------------------------\u001b[39m",
      "\u001b[31mKeyboardInterrupt\u001b[39m                         Traceback (most recent call last)",
      "\u001b[36mCell\u001b[39m\u001b[36m \u001b[39m\u001b[32mIn[24]\u001b[39m\u001b[32m, line 2\u001b[39m\n\u001b[32m      1\u001b[39m \u001b[38;5;66;03m# Group the person-level dataset by HH_ID and compute the aggregated features.\u001b[39;00m\n\u001b[32m----> \u001b[39m\u001b[32m2\u001b[39m person_features = \u001b[43mdf_pp_train\u001b[49m\u001b[43m.\u001b[49m\u001b[43mgroupby\u001b[49m\u001b[43m(\u001b[49m\u001b[33;43m'\u001b[39;49m\u001b[33;43mHH_ID\u001b[39;49m\u001b[33;43m'\u001b[39;49m\u001b[43m)\u001b[49m\u001b[43m.\u001b[49m\u001b[43mapply\u001b[49m\u001b[43m(\u001b[49m\u001b[43mcompute_features\u001b[49m\u001b[43m)\u001b[49m.reset_index()\n\u001b[32m      4\u001b[39m \u001b[38;5;66;03m# Merge the computed features into the household dataset using HH_ID.\u001b[39;00m\n\u001b[32m      5\u001b[39m master_df = pd.merge(df_hh_train, person_features, on=\u001b[33m'\u001b[39m\u001b[33mHH_ID\u001b[39m\u001b[33m'\u001b[39m, how=\u001b[33m'\u001b[39m\u001b[33mleft\u001b[39m\u001b[33m'\u001b[39m)\n",
      "\u001b[36mFile \u001b[39m\u001b[32mc:\\Users\\Asus\\miniconda3\\envs\\ml\\Lib\\site-packages\\pandas\\core\\groupby\\groupby.py:1824\u001b[39m, in \u001b[36mGroupBy.apply\u001b[39m\u001b[34m(self, func, include_groups, *args, **kwargs)\u001b[39m\n\u001b[32m   1822\u001b[39m \u001b[38;5;28;01mwith\u001b[39;00m option_context(\u001b[33m\"\u001b[39m\u001b[33mmode.chained_assignment\u001b[39m\u001b[33m\"\u001b[39m, \u001b[38;5;28;01mNone\u001b[39;00m):\n\u001b[32m   1823\u001b[39m     \u001b[38;5;28;01mtry\u001b[39;00m:\n\u001b[32m-> \u001b[39m\u001b[32m1824\u001b[39m         result = \u001b[38;5;28;43mself\u001b[39;49m\u001b[43m.\u001b[49m\u001b[43m_python_apply_general\u001b[49m\u001b[43m(\u001b[49m\u001b[43mf\u001b[49m\u001b[43m,\u001b[49m\u001b[43m \u001b[49m\u001b[38;5;28;43mself\u001b[39;49m\u001b[43m.\u001b[49m\u001b[43m_selected_obj\u001b[49m\u001b[43m)\u001b[49m\n\u001b[32m   1825\u001b[39m         \u001b[38;5;28;01mif\u001b[39;00m (\n\u001b[32m   1826\u001b[39m             \u001b[38;5;129;01mnot\u001b[39;00m \u001b[38;5;28misinstance\u001b[39m(\u001b[38;5;28mself\u001b[39m.obj, Series)\n\u001b[32m   1827\u001b[39m             \u001b[38;5;129;01mand\u001b[39;00m \u001b[38;5;28mself\u001b[39m._selection \u001b[38;5;129;01mis\u001b[39;00m \u001b[38;5;28;01mNone\u001b[39;00m\n\u001b[32m   1828\u001b[39m             \u001b[38;5;129;01mand\u001b[39;00m \u001b[38;5;28mself\u001b[39m._selected_obj.shape != \u001b[38;5;28mself\u001b[39m._obj_with_exclusions.shape\n\u001b[32m   1829\u001b[39m         ):\n\u001b[32m   1830\u001b[39m             warnings.warn(\n\u001b[32m   1831\u001b[39m                 message=_apply_groupings_depr.format(\n\u001b[32m   1832\u001b[39m                     \u001b[38;5;28mtype\u001b[39m(\u001b[38;5;28mself\u001b[39m).\u001b[34m__name__\u001b[39m, \u001b[33m\"\u001b[39m\u001b[33mapply\u001b[39m\u001b[33m\"\u001b[39m\n\u001b[32m   (...)\u001b[39m\u001b[32m   1835\u001b[39m                 stacklevel=find_stack_level(),\n\u001b[32m   1836\u001b[39m             )\n",
      "\u001b[36mFile \u001b[39m\u001b[32mc:\\Users\\Asus\\miniconda3\\envs\\ml\\Lib\\site-packages\\pandas\\core\\groupby\\groupby.py:1885\u001b[39m, in \u001b[36mGroupBy._python_apply_general\u001b[39m\u001b[34m(self, f, data, not_indexed_same, is_transform, is_agg)\u001b[39m\n\u001b[32m   1850\u001b[39m \u001b[38;5;129m@final\u001b[39m\n\u001b[32m   1851\u001b[39m \u001b[38;5;28;01mdef\u001b[39;00m\u001b[38;5;250m \u001b[39m\u001b[34m_python_apply_general\u001b[39m(\n\u001b[32m   1852\u001b[39m     \u001b[38;5;28mself\u001b[39m,\n\u001b[32m   (...)\u001b[39m\u001b[32m   1857\u001b[39m     is_agg: \u001b[38;5;28mbool\u001b[39m = \u001b[38;5;28;01mFalse\u001b[39;00m,\n\u001b[32m   1858\u001b[39m ) -> NDFrameT:\n\u001b[32m   1859\u001b[39m \u001b[38;5;250m    \u001b[39m\u001b[33;03m\"\"\"\u001b[39;00m\n\u001b[32m   1860\u001b[39m \u001b[33;03m    Apply function f in python space\u001b[39;00m\n\u001b[32m   1861\u001b[39m \n\u001b[32m   (...)\u001b[39m\u001b[32m   1883\u001b[39m \u001b[33;03m        data after applying f\u001b[39;00m\n\u001b[32m   1884\u001b[39m \u001b[33;03m    \"\"\"\u001b[39;00m\n\u001b[32m-> \u001b[39m\u001b[32m1885\u001b[39m     values, mutated = \u001b[38;5;28;43mself\u001b[39;49m\u001b[43m.\u001b[49m\u001b[43m_grouper\u001b[49m\u001b[43m.\u001b[49m\u001b[43mapply_groupwise\u001b[49m\u001b[43m(\u001b[49m\u001b[43mf\u001b[49m\u001b[43m,\u001b[49m\u001b[43m \u001b[49m\u001b[43mdata\u001b[49m\u001b[43m,\u001b[49m\u001b[43m \u001b[49m\u001b[38;5;28;43mself\u001b[39;49m\u001b[43m.\u001b[49m\u001b[43maxis\u001b[49m\u001b[43m)\u001b[49m\n\u001b[32m   1886\u001b[39m     \u001b[38;5;28;01mif\u001b[39;00m not_indexed_same \u001b[38;5;129;01mis\u001b[39;00m \u001b[38;5;28;01mNone\u001b[39;00m:\n\u001b[32m   1887\u001b[39m         not_indexed_same = mutated\n",
      "\u001b[36mFile \u001b[39m\u001b[32mc:\\Users\\Asus\\miniconda3\\envs\\ml\\Lib\\site-packages\\pandas\\core\\groupby\\ops.py:919\u001b[39m, in \u001b[36mBaseGrouper.apply_groupwise\u001b[39m\u001b[34m(self, f, data, axis)\u001b[39m\n\u001b[32m    917\u001b[39m \u001b[38;5;66;03m# group might be modified\u001b[39;00m\n\u001b[32m    918\u001b[39m group_axes = group.axes\n\u001b[32m--> \u001b[39m\u001b[32m919\u001b[39m res = \u001b[43mf\u001b[49m\u001b[43m(\u001b[49m\u001b[43mgroup\u001b[49m\u001b[43m)\u001b[49m\n\u001b[32m    920\u001b[39m \u001b[38;5;28;01mif\u001b[39;00m \u001b[38;5;129;01mnot\u001b[39;00m mutated \u001b[38;5;129;01mand\u001b[39;00m \u001b[38;5;129;01mnot\u001b[39;00m _is_indexed_like(res, group_axes, axis):\n\u001b[32m    921\u001b[39m     mutated = \u001b[38;5;28;01mTrue\u001b[39;00m\n",
      "\u001b[36mCell\u001b[39m\u001b[36m \u001b[39m\u001b[32mIn[23]\u001b[39m\u001b[32m, line 3\u001b[39m, in \u001b[36mcompute_features\u001b[39m\u001b[34m(group)\u001b[39m\n\u001b[32m      1\u001b[39m \u001b[38;5;28;01mdef\u001b[39;00m\u001b[38;5;250m \u001b[39m\u001b[34mcompute_features\u001b[39m(group):\n\u001b[32m      2\u001b[39m     \u001b[38;5;66;03m# Count of adults: Age 18-64 (inclusive)\u001b[39;00m\n\u001b[32m----> \u001b[39m\u001b[32m3\u001b[39m     count_adults = \u001b[43mgroup\u001b[49m\u001b[43m[\u001b[49m\u001b[43m(\u001b[49m\u001b[43mgroup\u001b[49m\u001b[43m[\u001b[49m\u001b[33;43m'\u001b[39;49m\u001b[33;43mAge(in years)\u001b[39;49m\u001b[33;43m'\u001b[39;49m\u001b[43m]\u001b[49m\u001b[43m \u001b[49m\u001b[43m>\u001b[49m\u001b[43m=\u001b[49m\u001b[43m \u001b[49m\u001b[32;43m18\u001b[39;49m\u001b[43m)\u001b[49m\u001b[43m \u001b[49m\u001b[43m&\u001b[49m\u001b[43m \u001b[49m\u001b[43m(\u001b[49m\u001b[43mgroup\u001b[49m\u001b[43m[\u001b[49m\u001b[33;43m'\u001b[39;49m\u001b[33;43mAge(in years)\u001b[39;49m\u001b[33;43m'\u001b[39;49m\u001b[43m]\u001b[49m\u001b[43m \u001b[49m\u001b[43m<\u001b[49m\u001b[43m=\u001b[49m\u001b[43m \u001b[49m\u001b[32;43m64\u001b[39;49m\u001b[43m)\u001b[49m\u001b[43m]\u001b[49m.shape[\u001b[32m0\u001b[39m]\n\u001b[32m      4\u001b[39m     adults_mean_age = group[(group[\u001b[33m'\u001b[39m\u001b[33mAge(in years)\u001b[39m\u001b[33m'\u001b[39m] >= \u001b[32m18\u001b[39m) & (group[\u001b[33m'\u001b[39m\u001b[33mAge(in years)\u001b[39m\u001b[33m'\u001b[39m] <= \u001b[32m64\u001b[39m)][\u001b[33m'\u001b[39m\u001b[33mAge(in years)\u001b[39m\u001b[33m'\u001b[39m].mean() \n\u001b[32m      7\u001b[39m     \u001b[38;5;66;03m# Count of children: Age below 18\u001b[39;00m\n",
      "\u001b[36mFile \u001b[39m\u001b[32mc:\\Users\\Asus\\miniconda3\\envs\\ml\\Lib\\site-packages\\pandas\\core\\frame.py:4093\u001b[39m, in \u001b[36mDataFrame.__getitem__\u001b[39m\u001b[34m(self, key)\u001b[39m\n\u001b[32m   4091\u001b[39m \u001b[38;5;66;03m# Do we have a (boolean) 1d indexer?\u001b[39;00m\n\u001b[32m   4092\u001b[39m \u001b[38;5;28;01mif\u001b[39;00m com.is_bool_indexer(key):\n\u001b[32m-> \u001b[39m\u001b[32m4093\u001b[39m     \u001b[38;5;28;01mreturn\u001b[39;00m \u001b[38;5;28;43mself\u001b[39;49m\u001b[43m.\u001b[49m\u001b[43m_getitem_bool_array\u001b[49m\u001b[43m(\u001b[49m\u001b[43mkey\u001b[49m\u001b[43m)\u001b[49m\n\u001b[32m   4095\u001b[39m \u001b[38;5;66;03m# We are left with two options: a single key, and a collection of keys,\u001b[39;00m\n\u001b[32m   4096\u001b[39m \u001b[38;5;66;03m# We interpret tuples as collections only for non-MultiIndex\u001b[39;00m\n\u001b[32m   4097\u001b[39m is_single_key = \u001b[38;5;28misinstance\u001b[39m(key, \u001b[38;5;28mtuple\u001b[39m) \u001b[38;5;129;01mor\u001b[39;00m \u001b[38;5;129;01mnot\u001b[39;00m is_list_like(key)\n",
      "\u001b[36mFile \u001b[39m\u001b[32mc:\\Users\\Asus\\miniconda3\\envs\\ml\\Lib\\site-packages\\pandas\\core\\frame.py:4155\u001b[39m, in \u001b[36mDataFrame._getitem_bool_array\u001b[39m\u001b[34m(self, key)\u001b[39m\n\u001b[32m   4152\u001b[39m     \u001b[38;5;28;01mreturn\u001b[39;00m \u001b[38;5;28mself\u001b[39m.copy(deep=\u001b[38;5;28;01mNone\u001b[39;00m)\n\u001b[32m   4154\u001b[39m indexer = key.nonzero()[\u001b[32m0\u001b[39m]\n\u001b[32m-> \u001b[39m\u001b[32m4155\u001b[39m \u001b[38;5;28;01mreturn\u001b[39;00m \u001b[38;5;28;43mself\u001b[39;49m\u001b[43m.\u001b[49m\u001b[43m_take_with_is_copy\u001b[49m\u001b[43m(\u001b[49m\u001b[43mindexer\u001b[49m\u001b[43m,\u001b[49m\u001b[43m \u001b[49m\u001b[43maxis\u001b[49m\u001b[43m=\u001b[49m\u001b[32;43m0\u001b[39;49m\u001b[43m)\u001b[49m\n",
      "\u001b[36mFile \u001b[39m\u001b[32mc:\\Users\\Asus\\miniconda3\\envs\\ml\\Lib\\site-packages\\pandas\\core\\generic.py:4153\u001b[39m, in \u001b[36mNDFrame._take_with_is_copy\u001b[39m\u001b[34m(self, indices, axis)\u001b[39m\n\u001b[32m   4142\u001b[39m \u001b[38;5;129m@final\u001b[39m\n\u001b[32m   4143\u001b[39m \u001b[38;5;28;01mdef\u001b[39;00m\u001b[38;5;250m \u001b[39m\u001b[34m_take_with_is_copy\u001b[39m(\u001b[38;5;28mself\u001b[39m, indices, axis: Axis = \u001b[32m0\u001b[39m) -> Self:\n\u001b[32m   4144\u001b[39m \u001b[38;5;250m    \u001b[39m\u001b[33;03m\"\"\"\u001b[39;00m\n\u001b[32m   4145\u001b[39m \u001b[33;03m    Internal version of the `take` method that sets the `_is_copy`\u001b[39;00m\n\u001b[32m   4146\u001b[39m \u001b[33;03m    attribute to keep track of the parent dataframe (using in indexing\u001b[39;00m\n\u001b[32m   (...)\u001b[39m\u001b[32m   4151\u001b[39m \u001b[33;03m    See the docstring of `take` for full explanation of the parameters.\u001b[39;00m\n\u001b[32m   4152\u001b[39m \u001b[33;03m    \"\"\"\u001b[39;00m\n\u001b[32m-> \u001b[39m\u001b[32m4153\u001b[39m     result = \u001b[38;5;28;43mself\u001b[39;49m\u001b[43m.\u001b[49m\u001b[43mtake\u001b[49m\u001b[43m(\u001b[49m\u001b[43mindices\u001b[49m\u001b[43m=\u001b[49m\u001b[43mindices\u001b[49m\u001b[43m,\u001b[49m\u001b[43m \u001b[49m\u001b[43maxis\u001b[49m\u001b[43m=\u001b[49m\u001b[43maxis\u001b[49m\u001b[43m)\u001b[49m\n\u001b[32m   4154\u001b[39m     \u001b[38;5;66;03m# Maybe set copy if we didn't actually change the index.\u001b[39;00m\n\u001b[32m   4155\u001b[39m     \u001b[38;5;28;01mif\u001b[39;00m \u001b[38;5;28mself\u001b[39m.ndim == \u001b[32m2\u001b[39m \u001b[38;5;129;01mand\u001b[39;00m \u001b[38;5;129;01mnot\u001b[39;00m result._get_axis(axis).equals(\u001b[38;5;28mself\u001b[39m._get_axis(axis)):\n",
      "\u001b[36mFile \u001b[39m\u001b[32mc:\\Users\\Asus\\miniconda3\\envs\\ml\\Lib\\site-packages\\pandas\\core\\generic.py:4133\u001b[39m, in \u001b[36mNDFrame.take\u001b[39m\u001b[34m(self, indices, axis, **kwargs)\u001b[39m\n\u001b[32m   4128\u001b[39m     \u001b[38;5;66;03m# We can get here with a slice via DataFrame.__getitem__\u001b[39;00m\n\u001b[32m   4129\u001b[39m     indices = np.arange(\n\u001b[32m   4130\u001b[39m         indices.start, indices.stop, indices.step, dtype=np.intp\n\u001b[32m   4131\u001b[39m     )\n\u001b[32m-> \u001b[39m\u001b[32m4133\u001b[39m new_data = \u001b[38;5;28;43mself\u001b[39;49m\u001b[43m.\u001b[49m\u001b[43m_mgr\u001b[49m\u001b[43m.\u001b[49m\u001b[43mtake\u001b[49m\u001b[43m(\u001b[49m\n\u001b[32m   4134\u001b[39m \u001b[43m    \u001b[49m\u001b[43mindices\u001b[49m\u001b[43m,\u001b[49m\n\u001b[32m   4135\u001b[39m \u001b[43m    \u001b[49m\u001b[43maxis\u001b[49m\u001b[43m=\u001b[49m\u001b[38;5;28;43mself\u001b[39;49m\u001b[43m.\u001b[49m\u001b[43m_get_block_manager_axis\u001b[49m\u001b[43m(\u001b[49m\u001b[43maxis\u001b[49m\u001b[43m)\u001b[49m\u001b[43m,\u001b[49m\n\u001b[32m   4136\u001b[39m \u001b[43m    \u001b[49m\u001b[43mverify\u001b[49m\u001b[43m=\u001b[49m\u001b[38;5;28;43;01mTrue\u001b[39;49;00m\u001b[43m,\u001b[49m\n\u001b[32m   4137\u001b[39m \u001b[43m\u001b[49m\u001b[43m)\u001b[49m\n\u001b[32m   4138\u001b[39m \u001b[38;5;28;01mreturn\u001b[39;00m \u001b[38;5;28mself\u001b[39m._constructor_from_mgr(new_data, axes=new_data.axes).__finalize__(\n\u001b[32m   4139\u001b[39m     \u001b[38;5;28mself\u001b[39m, method=\u001b[33m\"\u001b[39m\u001b[33mtake\u001b[39m\u001b[33m\"\u001b[39m\n\u001b[32m   4140\u001b[39m )\n",
      "\u001b[36mFile \u001b[39m\u001b[32mc:\\Users\\Asus\\miniconda3\\envs\\ml\\Lib\\site-packages\\pandas\\core\\internals\\managers.py:893\u001b[39m, in \u001b[36mBaseBlockManager.take\u001b[39m\u001b[34m(self, indexer, axis, verify)\u001b[39m\n\u001b[32m    890\u001b[39m n = \u001b[38;5;28mself\u001b[39m.shape[axis]\n\u001b[32m    891\u001b[39m indexer = maybe_convert_indices(indexer, n, verify=verify)\n\u001b[32m--> \u001b[39m\u001b[32m893\u001b[39m new_labels = \u001b[38;5;28;43mself\u001b[39;49m\u001b[43m.\u001b[49m\u001b[43maxes\u001b[49m\u001b[43m[\u001b[49m\u001b[43maxis\u001b[49m\u001b[43m]\u001b[49m\u001b[43m.\u001b[49m\u001b[43mtake\u001b[49m\u001b[43m(\u001b[49m\u001b[43mindexer\u001b[49m\u001b[43m)\u001b[49m\n\u001b[32m    894\u001b[39m \u001b[38;5;28;01mreturn\u001b[39;00m \u001b[38;5;28mself\u001b[39m.reindex_indexer(\n\u001b[32m    895\u001b[39m     new_axis=new_labels,\n\u001b[32m    896\u001b[39m     indexer=indexer,\n\u001b[32m   (...)\u001b[39m\u001b[32m    899\u001b[39m     copy=\u001b[38;5;28;01mNone\u001b[39;00m,\n\u001b[32m    900\u001b[39m )\n",
      "\u001b[36mFile \u001b[39m\u001b[32mc:\\Users\\Asus\\miniconda3\\envs\\ml\\Lib\\site-packages\\pandas\\core\\indexes\\base.py:1159\u001b[39m, in \u001b[36mIndex.take\u001b[39m\u001b[34m(self, indices, axis, allow_fill, fill_value, **kwargs)\u001b[39m\n\u001b[32m   1157\u001b[39m \u001b[38;5;28;01mif\u001b[39;00m is_scalar(indices):\n\u001b[32m   1158\u001b[39m     \u001b[38;5;28;01mraise\u001b[39;00m \u001b[38;5;167;01mTypeError\u001b[39;00m(\u001b[33m\"\u001b[39m\u001b[33mExpected indices to be array-like\u001b[39m\u001b[33m\"\u001b[39m)\n\u001b[32m-> \u001b[39m\u001b[32m1159\u001b[39m indices = \u001b[43mensure_platform_int\u001b[49m\u001b[43m(\u001b[49m\u001b[43mindices\u001b[49m\u001b[43m)\u001b[49m\n\u001b[32m   1160\u001b[39m allow_fill = \u001b[38;5;28mself\u001b[39m._maybe_disallow_fill(allow_fill, fill_value, indices)\n\u001b[32m   1162\u001b[39m \u001b[38;5;66;03m# Note: we discard fill_value and use self._na_value, only relevant\u001b[39;00m\n\u001b[32m   1163\u001b[39m \u001b[38;5;66;03m#  in the case where allow_fill is True and fill_value is not None\u001b[39;00m\n",
      "\u001b[31mKeyboardInterrupt\u001b[39m: "
     ]
    }
   ],
   "source": [
    "# Group the person-level dataset by HH_ID and compute the aggregated features.\n",
    "person_features = df_pp_train.groupby('HH_ID').apply(compute_features).reset_index()\n",
    "\n",
    "# Merge the computed features into the household dataset using HH_ID.\n",
    "master_df = pd.merge(df_hh_train, person_features, on='HH_ID', how='left')\n",
    "\n",
    "# fill missing values of person features with 0\n",
    "master_df.fillna(0, inplace=True)\n",
    "\n",
    "# Optional: Save the master dataset to a new CSV file.\n",
    "master_df.to_csv(\"aggregated_data_train.csv\", index=False)\n",
    "\n",
    "print(\"Master train dataset created successfully!\")"
   ]
  },
  {
   "cell_type": "code",
   "execution_count": null,
   "metadata": {},
   "outputs": [
    {
     "name": "stderr",
     "output_type": "stream",
     "text": [
      "C:\\Users\\Asus\\AppData\\Local\\Temp\\ipykernel_16636\\249950783.py:2: DeprecationWarning: DataFrameGroupBy.apply operated on the grouping columns. This behavior is deprecated, and in a future version of pandas the grouping columns will be excluded from the operation. Either pass `include_groups=False` to exclude the groupings or explicitly select the grouping columns after groupby to silence this warning.\n",
      "  person_features = df_pp_test.groupby('HH_ID').apply(compute_features).reset_index()\n"
     ]
    },
    {
     "name": "stdout",
     "output_type": "stream",
     "text": [
      "Master test dataset created successfully!\n"
     ]
    }
   ],
   "source": [
    "# Group the person-level dataset by HH_ID and compute the aggregated features.\n",
    "person_features = df_pp_test.groupby('HH_ID').apply(compute_features).reset_index()\n",
    "\n",
    "# Merge the computed features into the household dataset using HH_ID.\n",
    "master_df = pd.merge(df_hh_test, person_features, on='HH_ID', how='left')\n",
    "\n",
    "# fill missing values of person features with 0\n",
    "master_df.fillna(0, inplace=True)\n",
    "\n",
    "# Optional: Save the master dataset to a new CSV file.\n",
    "master_df.to_csv(\"aggregated_data_test.csv\", index=False)\n",
    "\n",
    "print(\"Master test dataset created successfully!\")\n"
   ]
  },
  {
   "cell_type": "code",
   "execution_count": null,
   "metadata": {
    "execution": {
     "iopub.execute_input": "2025-03-21T09:19:38.299113Z",
     "iopub.status.busy": "2025-03-21T09:19:38.298628Z",
     "iopub.status.idle": "2025-03-21T09:19:38.329715Z",
     "shell.execute_reply": "2025-03-21T09:19:38.328688Z",
     "shell.execute_reply.started": "2025-03-21T09:19:38.299079Z"
    },
    "trusted": true
   },
   "outputs": [
    {
     "data": {
      "text/html": [
       "<div>\n",
       "<style scoped>\n",
       "    .dataframe tbody tr th:only-of-type {\n",
       "        vertical-align: middle;\n",
       "    }\n",
       "\n",
       "    .dataframe tbody tr th {\n",
       "        vertical-align: top;\n",
       "    }\n",
       "\n",
       "    .dataframe thead th {\n",
       "        text-align: right;\n",
       "    }\n",
       "</style>\n",
       "<table border=\"1\" class=\"dataframe\">\n",
       "  <thead>\n",
       "    <tr style=\"text-align: right;\">\n",
       "      <th></th>\n",
       "      <th>HH_ID</th>\n",
       "      <th>Sector</th>\n",
       "      <th>State</th>\n",
       "      <th>NSS-Region</th>\n",
       "      <th>District</th>\n",
       "      <th>Household Type</th>\n",
       "      <th>Religion of the head of the household</th>\n",
       "      <th>Social Group of the head of the household</th>\n",
       "      <th>HH Size (For FDQ)</th>\n",
       "      <th>NCO_3D</th>\n",
       "      <th>...</th>\n",
       "      <th>mean_age</th>\n",
       "      <th>dependency_ratio</th>\n",
       "      <th>count_married</th>\n",
       "      <th>max_education</th>\n",
       "      <th>count_internet_users</th>\n",
       "      <th>total_meals_school</th>\n",
       "      <th>total_meals_employer</th>\n",
       "      <th>total_meals_payment</th>\n",
       "      <th>total_meals_home</th>\n",
       "      <th>total_meals_others</th>\n",
       "    </tr>\n",
       "  </thead>\n",
       "  <tbody>\n",
       "    <tr>\n",
       "      <th>0</th>\n",
       "      <td>HCES2022619881191951823044219131316</td>\n",
       "      <td>1</td>\n",
       "      <td>19</td>\n",
       "      <td>195</td>\n",
       "      <td>18</td>\n",
       "      <td>2</td>\n",
       "      <td>1</td>\n",
       "      <td>2</td>\n",
       "      <td>2</td>\n",
       "      <td>731.0</td>\n",
       "      <td>...</td>\n",
       "      <td>59.000000</td>\n",
       "      <td>0.000000</td>\n",
       "      <td>2.0</td>\n",
       "      <td>4.0</td>\n",
       "      <td>0.0</td>\n",
       "      <td>0.0</td>\n",
       "      <td>0.0</td>\n",
       "      <td>0.0</td>\n",
       "      <td>120.0</td>\n",
       "      <td>0.0</td>\n",
       "    </tr>\n",
       "    <tr>\n",
       "      <th>1</th>\n",
       "      <td>HCES2022617721191931723197219202205</td>\n",
       "      <td>1</td>\n",
       "      <td>19</td>\n",
       "      <td>193</td>\n",
       "      <td>17</td>\n",
       "      <td>4</td>\n",
       "      <td>1</td>\n",
       "      <td>9</td>\n",
       "      <td>4</td>\n",
       "      <td>325.0</td>\n",
       "      <td>...</td>\n",
       "      <td>16.000000</td>\n",
       "      <td>0.666667</td>\n",
       "      <td>2.0</td>\n",
       "      <td>7.0</td>\n",
       "      <td>2.0</td>\n",
       "      <td>0.0</td>\n",
       "      <td>0.0</td>\n",
       "      <td>0.0</td>\n",
       "      <td>360.0</td>\n",
       "      <td>0.0</td>\n",
       "    </tr>\n",
       "    <tr>\n",
       "      <th>2</th>\n",
       "      <td>HCES2022632771101011022015110131311</td>\n",
       "      <td>1</td>\n",
       "      <td>10</td>\n",
       "      <td>101</td>\n",
       "      <td>10</td>\n",
       "      <td>4</td>\n",
       "      <td>1</td>\n",
       "      <td>3</td>\n",
       "      <td>3</td>\n",
       "      <td>512.0</td>\n",
       "      <td>...</td>\n",
       "      <td>21.666667</td>\n",
       "      <td>1.000000</td>\n",
       "      <td>0.0</td>\n",
       "      <td>4.0</td>\n",
       "      <td>0.0</td>\n",
       "      <td>0.0</td>\n",
       "      <td>0.0</td>\n",
       "      <td>0.0</td>\n",
       "      <td>240.0</td>\n",
       "      <td>0.0</td>\n",
       "    </tr>\n",
       "    <tr>\n",
       "      <th>3</th>\n",
       "      <td>HCES2022357832080822112037108101306</td>\n",
       "      <td>2</td>\n",
       "      <td>8</td>\n",
       "      <td>82</td>\n",
       "      <td>21</td>\n",
       "      <td>1</td>\n",
       "      <td>1</td>\n",
       "      <td>9</td>\n",
       "      <td>4</td>\n",
       "      <td>611.0</td>\n",
       "      <td>...</td>\n",
       "      <td>44.500000</td>\n",
       "      <td>0.666667</td>\n",
       "      <td>2.0</td>\n",
       "      <td>11.0</td>\n",
       "      <td>3.0</td>\n",
       "      <td>0.0</td>\n",
       "      <td>0.0</td>\n",
       "      <td>0.0</td>\n",
       "      <td>240.0</td>\n",
       "      <td>0.0</td>\n",
       "    </tr>\n",
       "    <tr>\n",
       "      <th>4</th>\n",
       "      <td>HCES20226869012727230232010227422206</td>\n",
       "      <td>1</td>\n",
       "      <td>27</td>\n",
       "      <td>272</td>\n",
       "      <td>30</td>\n",
       "      <td>1</td>\n",
       "      <td>1</td>\n",
       "      <td>9</td>\n",
       "      <td>3</td>\n",
       "      <td>611.0</td>\n",
       "      <td>...</td>\n",
       "      <td>29.000000</td>\n",
       "      <td>0.000000</td>\n",
       "      <td>0.0</td>\n",
       "      <td>12.0</td>\n",
       "      <td>2.0</td>\n",
       "      <td>0.0</td>\n",
       "      <td>0.0</td>\n",
       "      <td>0.0</td>\n",
       "      <td>208.0</td>\n",
       "      <td>2.0</td>\n",
       "    </tr>\n",
       "  </tbody>\n",
       "</table>\n",
       "<p>5 rows × 54 columns</p>\n",
       "</div>"
      ],
      "text/plain": [
       "                                  HH_ID  Sector  State  NSS-Region  District  \\\n",
       "0   HCES2022619881191951823044219131316       1     19         195        18   \n",
       "1   HCES2022617721191931723197219202205       1     19         193        17   \n",
       "2   HCES2022632771101011022015110131311       1     10         101        10   \n",
       "3   HCES2022357832080822112037108101306       2      8          82        21   \n",
       "4  HCES20226869012727230232010227422206       1     27         272        30   \n",
       "\n",
       "   Household Type  Religion of the head of the household  \\\n",
       "0               2                                      1   \n",
       "1               4                                      1   \n",
       "2               4                                      1   \n",
       "3               1                                      1   \n",
       "4               1                                      1   \n",
       "\n",
       "   Social Group of the head of the household  HH Size (For FDQ)  NCO_3D  ...  \\\n",
       "0                                          2                  2   731.0  ...   \n",
       "1                                          9                  4   325.0  ...   \n",
       "2                                          3                  3   512.0  ...   \n",
       "3                                          9                  4   611.0  ...   \n",
       "4                                          9                  3   611.0  ...   \n",
       "\n",
       "    mean_age  dependency_ratio  count_married  max_education  \\\n",
       "0  59.000000          0.000000            2.0            4.0   \n",
       "1  16.000000          0.666667            2.0            7.0   \n",
       "2  21.666667          1.000000            0.0            4.0   \n",
       "3  44.500000          0.666667            2.0           11.0   \n",
       "4  29.000000          0.000000            0.0           12.0   \n",
       "\n",
       "   count_internet_users  total_meals_school  total_meals_employer  \\\n",
       "0                   0.0                 0.0                   0.0   \n",
       "1                   2.0                 0.0                   0.0   \n",
       "2                   0.0                 0.0                   0.0   \n",
       "3                   3.0                 0.0                   0.0   \n",
       "4                   2.0                 0.0                   0.0   \n",
       "\n",
       "   total_meals_payment  total_meals_home  total_meals_others  \n",
       "0                  0.0             120.0                 0.0  \n",
       "1                  0.0             360.0                 0.0  \n",
       "2                  0.0             240.0                 0.0  \n",
       "3                  0.0             240.0                 0.0  \n",
       "4                  0.0             208.0                 2.0  \n",
       "\n",
       "[5 rows x 54 columns]"
      ]
     },
     "execution_count": 12,
     "metadata": {},
     "output_type": "execute_result"
    }
   ],
   "source": [
    "master_df.head()"
   ]
  },
  {
   "cell_type": "code",
   "execution_count": null,
   "metadata": {
    "execution": {
     "iopub.execute_input": "2025-03-21T09:22:33.178941Z",
     "iopub.status.busy": "2025-03-21T09:22:33.178370Z",
     "iopub.status.idle": "2025-03-21T09:22:33.238806Z",
     "shell.execute_reply": "2025-03-21T09:22:33.237840Z",
     "shell.execute_reply.started": "2025-03-21T09:22:33.178878Z"
    },
    "trusted": true
   },
   "outputs": [
    {
     "data": {
      "text/plain": [
       "HH_ID                                                   0\n",
       "Sector                                                  0\n",
       "State                                                   0\n",
       "NSS-Region                                              0\n",
       "District                                                0\n",
       "Household Type                                          0\n",
       "Religion of the head of the household                   0\n",
       "Social Group of the head of the household               0\n",
       "HH Size (For FDQ)                                       0\n",
       "NCO_3D                                                  0\n",
       "NIC_5D                                                  0\n",
       "Is_online_Clothing_Purchased_Last365                    0\n",
       "Is_online_Footwear_Purchased_Last365                    0\n",
       "Is_online_Furniture_fixturesPurchased_Last365           0\n",
       "Is_online_Mobile_Handset_Purchased_Last365              0\n",
       "Is_online_Personal_Goods_Purchased_Last365              0\n",
       "Is_online_Recreation_Goods_Purchased_Last365            0\n",
       "Is_online_Household_Appliances_Purchased_Last365        0\n",
       "Is_online_Crockery_Utensils_Purchased_Last365           0\n",
       "Is_online_Sports_Goods_Purchased_Last365                0\n",
       "Is_online_Medical_Equipment_Purchased_Last365           0\n",
       "Is_online_Bedding_Purchased_Last365                     0\n",
       "Is_HH_Have_Television                                   0\n",
       "Is_HH_Have_Radio                                        0\n",
       "Is_HH_Have_Laptop_PC                                    0\n",
       "Is_HH_Have_Mobile_handset                               0\n",
       "Is_HH_Have_Bicycle                                      0\n",
       "Is_HH_Have_Motorcycle_scooter                           0\n",
       "Is_HH_Have_Motorcar_jeep_van                            0\n",
       "Is_HH_Have_Trucks                                       0\n",
       "Is_HH_Have_Animal_cart                                  0\n",
       "Is_HH_Have_Refrigerator                                 0\n",
       "Is_HH_Have_Washing_machine                              0\n",
       "Is_HH_Have_Airconditioner_aircooler                     0\n",
       "TotalExpense                                            0\n",
       "count_adults                                            0\n",
       "adults_mean_age                                      1824\n",
       "count_children                                          0\n",
       "children_mean_age                                   20028\n",
       "count_elders                                            0\n",
       "elders_mean_age                                     40429\n",
       "count_males                                             0\n",
       "count_females                                           0\n",
       "gender_ratio                                            0\n",
       "mean_age                                                0\n",
       "dependency_ratio                                        0\n",
       "count_married                                           0\n",
       "max_education                                           0\n",
       "count_internet_users                                    0\n",
       "total_meals_school                                      0\n",
       "total_meals_employer                                    0\n",
       "total_meals_payment                                     0\n",
       "total_meals_home                                        0\n",
       "total_meals_others                                      0\n",
       "dtype: int64"
      ]
     },
     "execution_count": 13,
     "metadata": {},
     "output_type": "execute_result"
    }
   ],
   "source": [
    "master_df.isnull().sum()"
   ]
  },
  {
   "cell_type": "code",
   "execution_count": null,
   "metadata": {},
   "outputs": [
    {
     "data": {
      "text/plain": [
       "52350"
      ]
     },
     "execution_count": 14,
     "metadata": {},
     "output_type": "execute_result"
    }
   ],
   "source": []
  },
  {
   "cell_type": "code",
   "execution_count": null,
   "metadata": {},
   "outputs": [
    {
     "data": {
      "text/plain": [
       "<bound method DataFrame.info of                                       HH_ID  Sector  State  NSS-Region  \\\n",
       "0       HCES2022619881191951823044219131316       1     19         195   \n",
       "1       HCES2022617721191931723197219202205       1     19         193   \n",
       "2       HCES2022632771101011022015110131311       1     10         101   \n",
       "3       HCES2022357832080822112037108101306       2      8          82   \n",
       "4      HCES20226869012727230232010227422206       1     27         272   \n",
       "...                                     ...     ...    ...         ...   \n",
       "52345   HCES2022625161101010223331210124304       1     10         101   \n",
       "52346   HCES2022677831343410223012133233316       1     34         341   \n",
       "52347   HCES2022666521080832623162208123306       1      8          83   \n",
       "52348   HCES2022398492323220712078232131305       2     32         322   \n",
       "52349   HCES2022669761090935323106209222101       1      9          93   \n",
       "\n",
       "       District  Household Type  Religion of the head of the household  \\\n",
       "0            18               2                                      1   \n",
       "1            17               4                                      1   \n",
       "2            10               4                                      1   \n",
       "3            21               1                                      1   \n",
       "4            30               1                                      1   \n",
       "...         ...             ...                                    ...   \n",
       "52345         2               5                                      2   \n",
       "52346         2               4                                      1   \n",
       "52347        26               1                                      1   \n",
       "52348         7               2                                      1   \n",
       "52349        53               1                                      2   \n",
       "\n",
       "       Social Group of the head of the household  HH Size (For FDQ)  NCO_3D  \\\n",
       "0                                              2                  2   731.0   \n",
       "1                                              9                  4   325.0   \n",
       "2                                              3                  3   512.0   \n",
       "3                                              9                  4   611.0   \n",
       "4                                              9                  3   611.0   \n",
       "...                                          ...                ...     ...   \n",
       "52345                                          9                  5   921.0   \n",
       "52346                                          2                  4   541.0   \n",
       "52347                                          1                  6   611.0   \n",
       "52348                                          3                  3   522.0   \n",
       "52349                                          3                  8   611.0   \n",
       "\n",
       "       ...   mean_age  dependency_ratio  count_married  max_education  \\\n",
       "0      ...  59.000000          0.000000            2.0            4.0   \n",
       "1      ...  16.000000          0.666667            2.0            7.0   \n",
       "2      ...  21.666667          1.000000            0.0            4.0   \n",
       "3      ...  44.500000          0.666667            2.0           11.0   \n",
       "4      ...  29.000000          0.000000            0.0           12.0   \n",
       "...    ...        ...               ...            ...            ...   \n",
       "52345  ...  16.200000          1.000000            2.0            3.0   \n",
       "52346  ...  26.500000          0.666667            2.0           12.0   \n",
       "52347  ...  33.166667          0.400000            4.0           12.0   \n",
       "52348  ...  34.666667          0.333333            2.0            6.0   \n",
       "52349  ...  34.375000          0.800000            3.0            8.0   \n",
       "\n",
       "       count_internet_users  total_meals_school  total_meals_employer  \\\n",
       "0                       0.0                 0.0                   0.0   \n",
       "1                       2.0                 0.0                   0.0   \n",
       "2                       0.0                 0.0                   0.0   \n",
       "3                       3.0                 0.0                   0.0   \n",
       "4                       2.0                 0.0                   0.0   \n",
       "...                     ...                 ...                   ...   \n",
       "52345                   0.0                31.0                   0.0   \n",
       "52346                   1.0                20.0                   0.0   \n",
       "52347                   4.0                40.0                   0.0   \n",
       "52348                   2.0                 0.0                   0.0   \n",
       "52349                   3.0                50.0                   0.0   \n",
       "\n",
       "       total_meals_payment  total_meals_home  total_meals_others  \n",
       "0                      0.0             120.0                 0.0  \n",
       "1                      0.0             360.0                 0.0  \n",
       "2                      0.0             240.0                 0.0  \n",
       "3                      0.0             240.0                 0.0  \n",
       "4                      0.0             208.0                 2.0  \n",
       "...                    ...               ...                 ...  \n",
       "52345                 90.0             250.0                 0.0  \n",
       "52346                 14.0             326.0                 0.0  \n",
       "52347                  0.0             376.0                 4.0  \n",
       "52348                  0.0             270.0                 0.0  \n",
       "52349                  0.0             490.0                 0.0  \n",
       "\n",
       "[52350 rows x 54 columns]>"
      ]
     },
     "execution_count": 15,
     "metadata": {},
     "output_type": "execute_result"
    }
   ],
   "source": [
    "master_df.info"
   ]
  }
 ],
 "metadata": {
  "kaggle": {
   "accelerator": "none",
   "dataSources": [
    {
     "datasetId": 6928170,
     "sourceId": 11112287,
     "sourceType": "datasetVersion"
    }
   ],
   "dockerImageVersionId": 30918,
   "isGpuEnabled": false,
   "isInternetEnabled": false,
   "language": "python",
   "sourceType": "notebook"
  },
  "kernelspec": {
   "display_name": "ml",
   "language": "python",
   "name": "python3"
  },
  "language_info": {
   "codemirror_mode": {
    "name": "ipython",
    "version": 3
   },
   "file_extension": ".py",
   "mimetype": "text/x-python",
   "name": "python",
   "nbconvert_exporter": "python",
   "pygments_lexer": "ipython3",
   "version": "3.12.9"
  }
 },
 "nbformat": 4,
 "nbformat_minor": 4
}
